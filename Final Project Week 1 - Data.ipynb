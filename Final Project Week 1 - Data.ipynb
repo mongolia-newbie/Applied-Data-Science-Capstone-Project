{
    "cells": [
        {
            "cell_type": "markdown",
            "metadata": {
                "collapsed": true
            },
            "source": "<h1 style=\"text-align: center;\">Final Project Week 1 - Data</h1>"
        },
        {
            "cell_type": "markdown",
            "metadata": {},
            "source": "Based on my assumptions and thoughts in the background&problem doc, below are the datasets that we need for our analysis:\n* Caf\u00e9 stores Latitude and longitude data\n* Population density of the Loop area\n* Traffic hubs and important commercial centers (Like Chicago City Hall) latitude and longitude data"
        },
        {
            "cell_type": "markdown",
            "metadata": {},
            "source": "For the caf\u00e9 stores Latitude and longitude data, I will log in to my personal developer Foursquare accounts and then make calls to the Foursquare API. In the earlier assignment, we transformed the raw data into a pandas data frame, including all the detailed info we need, like store name, latitude, and longitude. Please see the screenshot below. "
        },
        {
            "cell_type": "markdown",
            "metadata": {},
            "source": "<img src=\"https://github.com/mongolia-newbie/testrepo/blob/main/Screenshot%202021-05-11%20005953.png?raw=true\" alt=\"Transformed Data\">"
        },
        {
            "cell_type": "markdown",
            "metadata": {},
            "source": "With the help of the Folium Python library, we could easily visualize all the geographic data so that the current caf\u00e9 business status will be concluded. "
        },
        {
            "cell_type": "markdown",
            "metadata": {},
            "source": "In terms of population and hot spots data, I've found through Google. Population density map from 'https://statisticalatlas.com/', traffic hubs' latitude and longitude from Google map 'https://maps.google.com/'. Since I don't have websites with detailed info to do web scraping, I will just compare and make conclusions among the 3 maps. I feel it's acceptable under this topic. "
        },
        {
            "cell_type": "code",
            "execution_count": null,
            "metadata": {},
            "outputs": [],
            "source": ""
        }
    ],
    "metadata": {
        "kernelspec": {
            "display_name": "Python 3.7",
            "language": "python",
            "name": "python3"
        },
        "language_info": {
            "codemirror_mode": {
                "name": "ipython",
                "version": 3
            },
            "file_extension": ".py",
            "mimetype": "text/x-python",
            "name": "python",
            "nbconvert_exporter": "python",
            "pygments_lexer": "ipython3",
            "version": "3.7.10"
        }
    },
    "nbformat": 4,
    "nbformat_minor": 1
}