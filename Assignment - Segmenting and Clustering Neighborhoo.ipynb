{
    "cells": [
        {
            "cell_type": "markdown",
            "metadata": {
                "collapsed": true
            },
            "source": "# Assignment - Segmenting and Clustering Neighborhoods in Toronto"
        },
        {
            "cell_type": "markdown",
            "metadata": {},
            "source": "<h2>Table of Contents</h2>\n<div class=\"alert alert-block alert-info\" style=\"margin-top: 20px\">\n    <ol>\n        <li style=\"margin-bottom: 10px;\"><a href=\"df\">Web scraping and create a dataframe for Toronto neighbourhoods</a></li>\n        <li style=\"margin-bottom: 10px;\"><a href=\"ll\">Get the latitude and the longitude coordinates of each neighborhood</a></li>\n        <li style=\"margin-bottom: 10px;\"><a href=\"clu\">Explore and cluster the neighborhoods in Toronto</a></li>\n     </ol>\n    \n</div>"
        },
        {
            "cell_type": "markdown",
            "metadata": {},
            "source": "<h2 id=\"df\">1. Web scraping and create a dataframe for Toronto neighbourhoods</h2>"
        },
        {
            "cell_type": "code",
            "execution_count": null,
            "metadata": {},
            "outputs": [],
            "source": ""
        }
    ],
    "metadata": {
        "kernelspec": {
            "display_name": "Python 3.7",
            "language": "python",
            "name": "python3"
        },
        "language_info": {
            "codemirror_mode": {
                "name": "ipython",
                "version": 3
            },
            "file_extension": ".py",
            "mimetype": "text/x-python",
            "name": "python",
            "nbconvert_exporter": "python",
            "pygments_lexer": "ipython3",
            "version": "3.7.10"
        }
    },
    "nbformat": 4,
    "nbformat_minor": 1
}