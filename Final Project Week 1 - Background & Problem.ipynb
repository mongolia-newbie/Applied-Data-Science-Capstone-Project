{
    "cells": [
        {
            "cell_type": "markdown",
            "metadata": {
                "collapsed": true
            },
            "source": "<h1 style=\"text-align: center;\">Peer-graded Assignment: Capstone Project - The Battle of Neighborhoods (Week 1)</h1>"
        },
        {
            "cell_type": "markdown",
            "metadata": {},
            "source": "Chicago, the third biggest city in the United States, is an international hub for finance, culture, industry, commerce, and transportation with about 2.7 million population according to the data in 2019. As one of the best large cities, it set a record of 58 million tourist visitors in 2018. Because of its unique geographic location, people from nearby states will also come for better career opportunities, which makes Chicago downtown a highly developed, and even crowded business district. The Loop is the center of downtown. It is named so because all the subway lines turn and go across this area, which merged into a rail loop. Please see the google map screenshot below for details."
        },
        {
            "cell_type": "markdown",
            "metadata": {},
            "source": "<img src=\"https://github.com/mongolia-newbie/testrepo/blob/main/Screenshot%202021-05-10%20212516.png?raw=true\" alt=\"Chicago Loop\">"
        },
        {
            "cell_type": "markdown",
            "metadata": {},
            "source": "High traffic flow and high population density mean more business opportunities. I believe many small business entrepreneurs or chain-store owners are interested in starting a new business in this area. For example, a caf\u00e9, which could offer quick breakfast, brunch, and coffee chat locations.\n\n\nThere are already many caf\u00e9 stores existing in the Loop. <b>Is it possible to find a spot that is close to traffic hubs or commercial centers but not occupied with other caf\u00e9 stores?</b> Only under that scenario, the new store will have enough market shares to survive and win from the intensive competition. "
        },
        {
            "cell_type": "markdown",
            "metadata": {},
            "source": ""
        }
    ],
    "metadata": {
        "kernelspec": {
            "display_name": "Python 3.7",
            "language": "python",
            "name": "python3"
        },
        "language_info": {
            "codemirror_mode": {
                "name": "ipython",
                "version": 3
            },
            "file_extension": ".py",
            "mimetype": "text/x-python",
            "name": "python",
            "nbconvert_exporter": "python",
            "pygments_lexer": "ipython3",
            "version": "3.7.10"
        }
    },
    "nbformat": 4,
    "nbformat_minor": 1
}